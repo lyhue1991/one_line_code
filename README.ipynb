{
 "cells": [
  {
   "cell_type": "markdown",
   "id": "ac1bc162",
   "metadata": {},
   "source": [
    "<h1 class=\"list-group-item list-group-item-action active\" data-toggle=\"list\" style='color:#c3448b; background:#efe9e9; border:1px dashed #efe50b;' role=\"tab\" aria-controls=\"home\"><left>炼丹师，这是你的梦中情炉吗?🌹🌹</left></h1>"
   ]
  },
  {
   "cell_type": "markdown",
   "id": "622b2200",
   "metadata": {},
   "source": [
    "[English](README_en.md) | 简体中文"
   ]
  },
  {
   "cell_type": "markdown",
   "id": "79a2f537",
   "metadata": {},
   "source": [
    "torchkeras 是一个通用的pytorch模型训练模版工具，按照如下目标进行设计和实现：\n",
    "\n",
    "* **好看** (代码优雅，日志美丽，自带可视化)\n",
    "\n",
    "* **好用** (使用方便，支持 进度条、评估指标、early-stopping等常用功能，支持tensorboard，wandb回调函数等扩展功能)\n",
    "\n",
    "* **好改** (修改简单，核心代码模块化，仅约200行，并提供丰富的修改使用案例)\n",
    "\n"
   ]
  },
  {
   "cell_type": "markdown",
   "id": "8958a214",
   "metadata": {},
   "source": [
    "<h2 class=\"list-group-item list-group-item-action active\" data-toggle=\"list\" style=\"color:#c3448b; background:#efe9e9; border:1px dashed #efe50b;\" role=\"tab\" aria-controls=\"credits\"><left>1，炼丹之痛 😭😭</left></h2>"
   ]
  },
  {
   "cell_type": "markdown",
   "id": "3787843f",
   "metadata": {},
   "source": [
    "无论是学术研究还是工业落地，pytorch几乎都是目前炼丹的首选框架。\n",
    "\n",
    "pytorch的胜出不仅在于其简洁一致的api设计，更在于其生态中丰富和强大的模型库。\n",
    "\n",
    "但是我们会发现不同的pytorch模型库提供的训练和验证代码非常不一样。\n",
    "\n",
    "torchvision官方提供的范例代码主要是一个关联了非常多依赖函数的train_one_epoch和evaluate函数，针对检测和分割各有一套。\n",
    "\n",
    "yolo系列的主要是支持ddp模式的各种风格迥异的Trainer，每个不同的yolo版本都会改动很多导致不同yolo版本之间都难以通用。\n",
    "\n",
    "抱抱脸的transformer库在借鉴了pytorch_lightning的基础上也搞了一个自己的Trainer，但与pytorch_lightning并不兼容。\n",
    "\n",
    "非常有名的facebook的目标检测库detectron2, 也是搞了一个它自己的Trainer，配合一个全局的cfg参数设置对象来训练模型。\n",
    "\n",
    "还有我用的比较多的语义分割的segmentation_models.pytorch这个库，设计了一个TrainEpoch和一个ValidEpoch来做训练和验证。\n",
    "\n",
    "在学习和使用这些不同的pytorch模型库时，尝试阅读理解和改动这些训练和验证相关的代码让我受到了一万点伤害。\n",
    "\n",
    "有些设计非常糟糕，嵌套了十几层，有些实现非常dirty，各种带下划线的私有变量满天飞。\n",
    "\n",
    "让你每次想要改动一下加入一些自己想要的功能时就感到望而却步。\n",
    "\n",
    "我不就想finetune一下模型嘛，何必拿这么多垃圾代码搞我？\n",
    "\n"
   ]
  },
  {
   "cell_type": "markdown",
   "id": "58a87176",
   "metadata": {},
   "source": [
    "<h2 class=\"list-group-item list-group-item-action active\" data-toggle=\"list\" style=\"color:#c3448b; background:#efe9e9; border:1px dashed #efe50b;\" role=\"tab\" aria-controls=\"credits\"><left>2，梦中情炉 🤗🤗</left></h2>"
   ]
  },
  {
   "cell_type": "markdown",
   "id": "2b93c890",
   "metadata": {},
   "source": [
    "这一切的苦不由得让我怀念起tensorflow中keras的美好了。\n",
    "\n",
    "还记得keras那compile, fit, evalute三连击吗？一切都像行云流水般自然，真正的for humans。\n",
    "\n",
    "而且你看任何用keras实现的模型库，训练和验证都几乎可以用这一套相同的接口，没有那么多莫名奇妙的野生Trainer。\n",
    "\n",
    "我能否基于pytorch打造一个接口和keras一样简洁易用，功能强大，但是实现代码非常简短易懂，便于修改的模型训练工具呢？\n",
    "\n",
    "从2020年7月左右发布1.0版本到最近发布的3.86版本，我陆陆续续在工作中一边使用一边打磨一个工具，总共提交修改了70多次。\n",
    "\n",
    "现在我感觉我细心雕琢的这个作品终于长成了我心目中接近完美的样子。\n",
    "\n",
    "\n",
    "<br>\n",
    "\n",
    "**她有一个美丽的名字：torchkeras.**\n",
    "\n",
    "<br>\n",
    "\n",
    "<font color=\"red\">\n",
    " \n",
    "**是的，她兼具torch的灵动，也有keras的优雅~**\n",
    "\n",
    "**并且她的美丽，无与伦比~**\n",
    "\n",
    "**她，就是我的梦中情炉~ 🤗🤗**\n",
    "    \n",
    "</font> \n",
    "\n",
    "<br>\n",
    "\n",
    "\n",
    "\n",
    "\n"
   ]
  },
  {
   "cell_type": "code",
   "execution_count": null,
   "id": "f7c707bf",
   "metadata": {},
   "outputs": [],
   "source": []
  },
  {
   "cell_type": "markdown",
   "id": "998966d0",
   "metadata": {},
   "source": [
    "<h2 class=\"list-group-item list-group-item-action active\" data-toggle=\"list\" style=\"color:#c3448b; background:#efe9e9; border:1px dashed #efe50b;\" role=\"tab\" aria-controls=\"credits\"><left>3，使用方法 🍊🍊</left></h2>"
   ]
  },
  {
   "cell_type": "markdown",
   "id": "79e7ed76",
   "metadata": {},
   "source": [
    "安装torchkeras\n",
    "```\n",
    "pip install torchkeras\n",
    "```\n",
    "\n",
    "通过使用torchkeras，你不需要写自己的pytorch模型训练循环。你只要做这样两步就可以了。\n",
    "\n",
    "(1) 创建你的模型结构net,然后把它和损失函数传入torchkeras.KerasModel构建一个model。\n",
    "\n",
    "(2) 使用model的fit方法在你的训练数据和验证数据上进行训练，训练数据和验证数据需要封装成两个DataLoader.\n"
   ]
  },
  {
   "cell_type": "markdown",
   "id": "44b20217",
   "metadata": {},
   "source": [
    "核心使用代码就像下面这样："
   ]
  },
  {
   "cell_type": "code",
   "execution_count": null,
   "id": "956323c4",
   "metadata": {},
   "outputs": [],
   "source": [
    "import torch \n",
    "import torchkeras\n",
    "import torchmetrics\n",
    "model = torchkeras.KerasModel(net,\n",
    "                              loss_fn = nn.BCEWithLogitsLoss(),\n",
    "                              optimizer= torch.optim.Adam(net.parameters(),lr = 1e-4),\n",
    "                              metrics_dict = {\"acc\":torchmetrics.Accuracy(task='binary')}\n",
    "                             )\n",
    "dfhistory=model.fit(train_data=dl_train, \n",
    "                    val_data=dl_val, \n",
    "                    epochs=20, \n",
    "                    patience=3, \n",
    "                    ckpt_path='checkpoint.pt',\n",
    "                    monitor=\"val_acc\",\n",
    "                    mode=\"max\",\n",
    "                    plot=True\n",
    "                   )\n"
   ]
  },
  {
   "cell_type": "markdown",
   "id": "07e11a3b",
   "metadata": {},
   "source": [
    "在jupyter notebook中执行训练代码，你将看到类似下面的训练可视化图像和训练日志进度条。\n",
    "\n",
    "![](./data/train_fig.png)\n",
    "\n",
    "![](./data/train_log.png)\n"
   ]
  },
  {
   "cell_type": "markdown",
   "id": "02e1a795",
   "metadata": {},
   "source": [
    "<h2 class=\"list-group-item list-group-item-action active\" data-toggle=\"list\" style=\"color:#c3448b; background:#efe9e9; border:1px dashed #efe50b;\" role=\"tab\" aria-controls=\"credits\"><left>4，主要特性 🍉🍉</left></h2>"
   ]
  },
  {
   "cell_type": "markdown",
   "id": "226a19ea",
   "metadata": {},
   "source": [
    "torchkeras 支持以下这些功能特性，稳定支持这些功能的起始版本以及这些功能借鉴或者依赖的库的来源见下表。\n",
    "\n"
   ]
  },
  {
   "cell_type": "markdown",
   "id": "d0be982f",
   "metadata": {},
   "source": [
    "|功能| 稳定支持起始版本 | 依赖或借鉴库 |\n",
    "|:----|:-------------------:|:--------------|\n",
    "|✅ 训练进度条 | 3.0.0   | 依赖tqdm,借鉴keras|\n",
    "|✅ 训练评估指标  | 3.0.0   | 借鉴pytorch_lightning |\n",
    "|✅ notebook中训练自带可视化 |  3.8.0  |借鉴fastai |\n",
    "|✅ early stopping | 3.0.0   | 借鉴keras |\n",
    "|✅ gpu training | 3.0.0    |依赖accelerate|\n",
    "|✅ multi-gpus training(ddp) |   3.6.0 | 依赖accelerate|\n",
    "|✅ fp16/bf16 training|   3.6.0  | 依赖accelerate|\n",
    "|✅ tensorboard callback |   3.7.0  |依赖tensorboard |\n",
    "|✅ wandb callback |  3.7.0 |依赖wandb |"
   ]
  },
  {
   "cell_type": "code",
   "execution_count": null,
   "id": "feaacdc0",
   "metadata": {},
   "outputs": [],
   "source": []
  },
  {
   "cell_type": "markdown",
   "id": "5996ec21",
   "metadata": {},
   "source": [
    "<h2 class=\"list-group-item list-group-item-action active\" data-toggle=\"list\" style=\"color:#c3448b; background:#efe9e9; border:1px dashed #efe50b;\" role=\"tab\" aria-controls=\"credits\"><left>5，基本范例 🌰🌰</left></h2>"
   ]
  },
  {
   "cell_type": "markdown",
   "id": "2bf912ce",
   "metadata": {},
   "source": [
    "以下范例是torchkeras的基础范例，演示了torchkeras的主要功能。\n",
    "\n",
    "包括基础训练，使用wandb可视化，使用wandb调参，使用tensorboard可视化，使用多GPU的ddp模式训练等。"
   ]
  },
  {
   "cell_type": "markdown",
   "id": "b2edf74e",
   "metadata": {},
   "source": [
    "|example| notebook    |  kaggle链接| \n",
    "|:----|:-------------------------|:-----------:|\n",
    "|①kerasmodel basic 🔥🔥|  [**torchkeras.KerasModel example**](./01，kerasmodel_example.ipynb)  |  <br><div></a><a href=\"https://www.kaggle.com/lyhue1991/kerasmodel-example\"><img src=\"https://kaggle.com/static/images/open-in-kaggle.svg\" alt=\"Open In Kaggle\"></a></div><br>  |\n",
    "|②kerasmodel wandb 🔥🔥🔥|[**torchkeras.KerasModel with wandb demo**](./02，kerasmodel_wandb_demo.ipynb)   |  <br><div></a><a href=\"https://www.kaggle.com/lyhue1991/kerasmodel-wandb-example\"><img src=\"https://kaggle.com/static/images/open-in-kaggle.svg\" alt=\"Open In Kaggle\"></a></div><br>  |\n",
    "|③kerasmodel tunning 🔥🔥🔥|[**torchkeras.KerasModel with wandb sweep demo**](./03，kerasmodel_tuning_demo.ipynb)   |  <br><div></a><a href=\"https://www.kaggle.com/lyhue1991/torchkeras-loves-wandb-sweep\"><img src=\"https://kaggle.com/static/images/open-in-kaggle.svg\" alt=\"Open In Kaggle\"></a></div><br>  |\n",
    "|④kerasmodel tensorboard | [**torchkeras.KerasModel with tensorboard example**](./04，kerasmodel_tensorboard_demo.ipynb)   |  |\n",
    "|⑤kerasmodel ddp/tpu | [**torchkeras.KerasModel  ddp tpu examples**](https://www.kaggle.com/code/lyhue1991/torchkeras-ddp-tpu-examples)   |<br><div></a><a href=\"https://www.kaggle.com/lyhue1991/torchkeras-ddp-tpu-examples\"><img src=\"https://kaggle.com/static/images/open-in-kaggle.svg\" alt=\"Open In Kaggle\"></a></div><br>  |\n"
   ]
  },
  {
   "cell_type": "markdown",
   "id": "a66cb936",
   "metadata": {},
   "source": [
    "<h2 class=\"list-group-item list-group-item-action active\" data-toggle=\"list\" style=\"color:#c3448b; background:#efe9e9; border:1px dashed #efe50b;\" role=\"tab\" aria-controls=\"credits\"><left>6，进阶范例 🔥🔥 </left></h2>"
   ]
  },
  {
   "cell_type": "markdown",
   "id": "919009c7",
   "metadata": {},
   "source": [
    "下面的范例为torchkeras的进阶使用范例，由于输入数据结构的差异，这些范例有些需要对torchkeras的核心模块StepRunner进行修改。\n",
    "\n",
    "这种修改实际上是非常简单的，保持每个模块的输出与原始实现格式一致就行，中间处理逻辑根据需要灵活调整。\n",
    "\n",
    "这里的范例包括了使用torchkeras对一些非常常用的库中的模型进行训练的例子。\n",
    "\n",
    "例如：\n",
    "\n",
    "* torchvision\n",
    "* transformers\n",
    "* segmentation_models_pytorch\n",
    "\n",
    "\n",
    "更多范例参考项目下的examples目录。"
   ]
  },
  {
   "cell_type": "markdown",
   "id": "8f319880",
   "metadata": {},
   "source": [
    "> 如果你想掌握一个东西，那么就去使用它，如果你想真正理解一个东西，那么尝试去改变它。 ———— 爱因斯坦\n",
    "\n"
   ]
  },
  {
   "cell_type": "markdown",
   "id": "3762c06e",
   "metadata": {},
   "source": [
    "|example|使用模型库  |notebook |kaggle链接| \n",
    "|:----|:-----------|:-----------:|:-----------:|\n",
    "|图片分类——Resnet|  -  |  [Resnet](./examples/ResNet.ipynb) |<br><div></a><a href=\"https://www.kaggle.com/code/lyhue1991/torchkeras-resnet\"><img src=\"https://kaggle.com/static/images/open-in-kaggle.svg\" alt=\"Open In Kaggle\"></a></div><br>  |\n",
    "|语义分割——UNet|  - | [UNet](./examples/UNet.ipynb) | <br><div></a><a href=\"https://www.kaggle.com/code/lyhue1991/torchkeras-unet\"><img src=\"https://kaggle.com/static/images/open-in-kaggle.svg\" alt=\"Open In Kaggle\"></a></div><br>  |\n",
    "|目标检测——SSD| -  | [SSD](./examples/SSD.ipynb) |<br><div></a><a href=\"https://www.kaggle.com/lyhue1991/torchkeras-ssd\"><img src=\"https://kaggle.com/static/images/open-in-kaggle.svg\" alt=\"Open In Kaggle\"></a></div><br>  |\n",
    "|目标检测——FasterRCNN| torchvision  |  [FasterRCNN](./examples/FasterRCNN——torchvision.ipynb) |  |\n",
    "|语义分割——DeepLabV3++ 🔥🔥| segmentation_models_pytorch |  [Deeplabv3++](./examples/Deeplabv3plus——smp.ipynb) | |"
   ]
  },
  {
   "cell_type": "markdown",
   "id": "9ef43ffc",
   "metadata": {},
   "source": [
    "<h2 class=\"list-group-item list-group-item-action active\" data-toggle=\"list\" style=\"color:#c3448b; background:#efe9e9; border:1px dashed #efe50b;\" role=\"tab\" aria-controls=\"credits\"><left>7，鼓励和联系作者 🎈🎈 </left></h2>\n"
   ]
  },
  {
   "cell_type": "markdown",
   "id": "49825274",
   "metadata": {},
   "source": [
    "**如果本项目对你有所帮助，想鼓励一下作者，记得给本项目加一颗星星star⭐️，并分享给你的朋友们喔😊!** \n",
    "\n",
    "如果在torchkeras的使用中遇到问题，可以在项目中提交issue。\n",
    "\n",
    "如果想要获得更快的反馈或者与其他torchkeras用户小伙伴进行交流，\n",
    "\n",
    "可以在公众号算法美食屋后台回复关键字：**加群**。\n",
    "\n",
    "![](https://tva1.sinaimg.cn/large/e6c9d24egy1h41m2zugguj20k00b9q46.jpg)\n"
   ]
  }
 ],
 "metadata": {
  "jupytext": {
   "cell_metadata_filter": "-all",
   "main_language": "python",
   "notebook_metadata_filter": "-all",
   "text_representation": {
    "extension": ".md",
    "format_name": "markdown"
   }
  }
 },
 "nbformat": 4,
 "nbformat_minor": 5
}
